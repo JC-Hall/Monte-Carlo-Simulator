{
 "cells": [
  {
   "cell_type": "markdown",
   "id": "45762487-d33f-486d-8e38-2cdea04e3528",
   "metadata": {},
   "source": [
    "# Final Project Report\n",
    "\n",
    "* Class: DS 5100\n",
    "* Student Name: Joshua Hall\n",
    "* Student Net ID: jch7aa\n",
    "* This URL: http://localhost:8888/notebooks/Downloads/DS5100/ds5100_final_project_files/DS51200_FinalProjectTemplate.ipynb
   ]
  },
  {
   "cell_type": "markdown",
   "id": "acf756c1-ecaa-41dc-b6ca-d566eb94560b",
   "metadata": {},
   "source": [
    "# Instructions\n",
    "\n",
    "Follow the instructions in the Final Project isntructions notebook and put evidence of your work in this notebook.\n",
    "\n",
    "Total points for each subsection under **Deliverables** and **Scenarios** are given in parentheses.\n",
    "\n",
    "Breakdowns of points within subsections are specified within subsection instructions as bulleted lists.\n",
    "\n",
    "This project is worth **50 points**."
   ]
  },
  {
   "cell_type": "markdown",
   "id": "89dc7a32-f682-4402-8c1e-b6ccdb3e0e39",
   "metadata": {},
   "source": [
    "# Deliverables"
   ]
  },
  {
   "cell_type": "markdown",
   "id": "d32cb273-9a40-4909-a7ce-51f6e4958d3c",
   "metadata": {},
   "source": [
    "## The Monte Carlo Module (10)\n",
    "\n",
    "- URL included, appropriately named (1).\n",
    "- Includes all three specified classes (3).\n",
    "- Includes at least all 12 specified methods (6; .5 each)."
   ]
  },
  {
   "cell_type": "markdown",
   "id": "f5f3b070-de9e-4de9-bfae-8974d184aa28",
   "metadata": {},
   "source": [
    "Put the URL to your GitHub repo here.\n",
    "\n",
    "Repo URL: https://github.com/JC-Hall/Monte-Carlo-Simulator"
   ]
  },
  {
   "cell_type": "markdown",
   "id": "162370fb-3729-4c85-b040-8c25b2c966d2",
   "metadata": {},
   "source": [
    "Paste a copyy of your module here.\n",
    "\n",
    "NOTE: Paste as text, not as code. Use triple backticks to wrap your code blocks."
   ]
  },
  {
   "cell_type": "code",
   "execution_count": null,
   "id": "a77eab52-3e28-4ab4-9035-a23871c8134d",
   "metadata": {},
   "outputs": [],
   "source": [
    "'''\n",
    "import numpy as np\n",
    "import pandas as pd\n",
    "from itertools import permutations\n",
    "from collections import Counter\n",
    "\n",
    "class Die:\n",
    "    \"\"\"\n",
    "    A class to represent a die with N sides (faces) and associated weights.\n",
    "    \n",
    "    Attributes:\n",
    "        _die_df (pd.DataFrame): A private DataFrame holding faces and weights.\n",
    "    \n",
    "    Methods:\n",
    "        change_weight(face, new_weight):\n",
    "            Changes the weight of a specific face.\n",
    "        roll(num_rolls=1):\n",
    "            Rolls the die one or more times.\n",
    "        show():\n",
    "            Returns a copy of the die's current state (faces and weights).\n",
    "    \"\"\"\n",
    "    def __init__(self, faces):\n",
    "        \"\"\"\n",
    "        Initializes a die with faces and equal default weights.\n",
    "        \n",
    "        Args:\n",
    "            faces (np.ndarray): A NumPy array of distinct symbols representing die faces.\n",
    "        \n",
    "        Raises:\n",
    "            TypeError: If faces is not a NumPy array.\n",
    "            ValueError: If faces are not distinct.\n",
    "        \"\"\"\n",
    "        if not isinstance(faces, np.ndarray):\n",
    "            raise TypeError(\"Faces must be a NumPy array.\")\n",
    "        \n",
    "        if len(faces) != len(set(faces)):\n",
    "            raise ValueError(\"Faces must have distinct values.\")\n",
    "        \n",
    "        self._die_df = pd.DataFrame({\n",
    "            'faces': faces,\n",
    "            'weights': np.ones(len(faces))  \n",
    "        }).set_index('faces')\n",
    "    \n",
    "    def change_weight(self, face, new_weight):\n",
    "        \"\"\"\n",
    "        Changes the weight of a specific face.\n",
    "        \n",
    "        Args:\n",
    "            face: The face whose weight is to be changed.\n",
    "            new_weight: The new weight to be assigned (numeric, positive).\n",
    "        \n",
    "        Raises:\n",
    "            IndexError: If the face does not exist.\n",
    "            TypeError: If the weight is not numeric.\n",
    "        \"\"\"\n",
    "        if face not in self._die_df.index:\n",
    "            raise IndexError(\"The specified face does not exist.\")\n",
    "        try:\n",
    "            new_weight = float(new_weight)\n",
    "        except ValueError:\n",
    "            raise TypeError(\"The new weight must be numeric.\")\n",
    "        self._die_df.loc[face, 'weights'] = new_weight\n",
    "    \n",
    "    def roll(self, num_rolls=1):\n",
    "        \"\"\"\n",
    "        Rolls the die one or more times based on its weights.\n",
    "        \n",
    "        Args:\n",
    "            num_rolls (int): Number of times to roll the die (default is 1).\n",
    "        \n",
    "        Returns:\n",
    "            list: A list of faces rolled.\n",
    "        \n",
    "        Raises:\n",
    "            ValueError: If num_rolls is not a positive integer.\n",
    "        \"\"\"\n",
    "        if not isinstance(num_rolls, int) or num_rolls < 1:\n",
    "            raise ValueError(\"Number of rolls must be a positive integer.\")\n",
    "        outcomes = self._die_df.sample(\n",
    "            n=num_rolls,\n",
    "            weights='weights',\n",
    "            replace=True\n",
    "        ).index.tolist()\n",
    "        return outcomes\n",
    "\n",
    "    def show(self):\n",
    "        \"\"\"\n",
    "        Displays the current state of the die (faces and weights).\n",
    "        \n",
    "        Returns:\n",
    "            pd.DataFrame: A copy of the private die DataFrame.\n",
    "        \"\"\"\n",
    "        return self._die_df.copy()\n",
    "\n",
    "class Game:\n",
    "    \"\"\"\n",
    "    A class to represent a game consisting of rolling one or more dice.\n",
    "    \n",
    "    Attributes:\n",
    "        _dice (list): A list of Die objects.\n",
    "        _results (pd.DataFrame): Results of the most recent game play.\n",
    "    \n",
    "    Methods:\n",
    "        play(num_rolls):\n",
    "            Rolls all dice a specified number of times.\n",
    "        show(form='wide'):\n",
    "            Returns the results of the most recent play in wide or narrow format.\n",
    "    \"\"\"\n",
    "    def __init__(self, dice):\n",
    "         \"\"\"\n",
    "        Initializes a game with a list of dice.\n",
    "        \n",
    "        Args:\n",
    "            dice (list): A list of Die objects.\n",
    "        \n",
    "        Raises:\n",
    "            TypeError: If the input is not a list of Die objects.\n",
    "        \"\"\"\n",
    "        if not isinstance(dice, list) or not all(isinstance(d, Die) for d in dice):\n",
    "            raise TypeError(\"Dice must be a list of Die objects.\")\n",
    "        self._dice = dice\n",
    "        self._results = None\n",
    "        \n",
    "    def play(self, num_rolls):\n",
    "        \"\"\"\n",
    "        Rolls all dice in the game a specified number of times.\n",
    "        \n",
    "        Args:\n",
    "            num_rolls (int): Number of times to roll the dice.\n",
    "        \n",
    "        Raises:\n",
    "            ValueError: If num_rolls is not a positive integer.\n",
    "        \"\"\"\n",
    "        if not isinstance(num_rolls, int) or num_rolls < 1:\n",
    "            raise ValueError(\"Number of rolls must be a positive integer.\")\n",
    "        results = {}\n",
    "        for i, die in enumerate(self._dice):\n",
    "            results[f\"Die_{i}\"] = die.roll(num_rolls)\n",
    "        self._results = pd.DataFrame(results)\n",
    "        self._results.index.name = 'Roll_Number'\n",
    "\n",
    "    def show(self, form='wide'):\n",
    "        \"\"\"\n",
    "        Displays the results of the most recent play.\n",
    "        \n",
    "        Args:\n",
    "            form (str): Format of the results ('wide' or 'narrow'). Default is 'wide'.\n",
    "        \n",
    "        Returns:\n",
    "            pd.DataFrame: Results of the most recent play in the specified format.\n",
    "        \n",
    "        Raises:\n",
    "            ValueError: If the user requests an invalid format or no results are available.\n",
    "        \"\"\"\n",
    "        if self._results is None:\n",
    "            raise ValueError(\"No results available. Please play the game first.\")\n",
    "        if form == 'wide':\n",
    "            return self._results.copy()\n",
    "        elif form == 'narrow':\n",
    "            return self._results.reset_index().melt(\n",
    "                id_vars='Roll_Number',\n",
    "                var_name='Die_Number',\n",
    "                value_name='Outcome'\n",
    "            ).set_index(['Roll_Number', 'Die_Number'])\n",
    "        else:\n",
    "            raise ValueError(\"Invalid form specified. Use 'wide' or 'narrow'.\")\n",
    "\n",
    "class Analyzer:\n",
    "    \"\"\"\n",
    "    A class to analyze the results of a game and compute statistical properties.\n",
    "    \n",
    "    Attributes:\n",
    "        _game (Game): The game object being analyzed.\n",
    "        _results (pd.DataFrame): Results of the game in wide format.\n",
    "    \n",
    "    Methods:\n",
    "        jackpot():\n",
    "            Computes the number of jackpots.\n",
    "        face_counts_per_roll():\n",
    "            Computes counts of each face for every roll.\n",
    "        combo_count():\n",
    "            Computes distinct combinations of faces per roll.\n",
    "        permutation_count():\n",
    "            Computes distinct permutations of faces per roll.\n",
    "    \"\"\"\n",
    "    def __init__(self, game):\n",
    "        \"\"\"\n",
    "        Initializes the Analyzer with a Game object.\n",
    "        \n",
    "        Args:\n",
    "            game (Game): A Game object.\n",
    "        \n",
    "        Raises:\n",
    "            ValueError: If the input is not a Game object.\n",
    "        \"\"\"\n",
    "        if not isinstance(game, Game):\n",
    "            raise ValueError(\"The input must be a Game object.\")\n",
    "        self._game = game\n",
    "        self._results = game.show('wide')\n",
    "\n",
    "    def jackpot(self):\n",
    "        \"\"\"\n",
    "        Computes the number of jackpots (all faces are the same in a roll).\n",
    "        \n",
    "        Returns:\n",
    "            int: The number of jackpots.\n",
    "        \"\"\"\n",
    "        return (self._results.nunique(axis=1) ==1).sum()\n",
    "\n",
    "    def face_counts_per_roll(self):\n",
    "        \"\"\"\n",
    "        Computes counts of each face per roll.\n",
    "        \n",
    "        Returns:\n",
    "            pd.DataFrame: Counts of each face per roll in wide format.\n",
    "        \"\"\"\n",
    "        return self._results.apply(pd.Series.value_counts, axis=1).fillna(0).astype(int)\n",
    "\n",
    "    def combo_count(self):\n",
    "        \"\"\"\n",
    "        Computes distinct combinations of faces rolled (order-independent).\n",
    "        \n",
    "        Returns:\n",
    "            pd.DataFrame: DataFrame with combinations and counts.\n",
    "        \"\"\"\n",
    "        combinations = self._results.apply(lambda row: tuple(sorted(row)), axis=1)\n",
    "        return combinations.value_counts().rename_axis('Combination').reset_index(name='Count')\n",
    "\n",
    "    def permutation_count(self):\n",
    "        \"\"\"\n",
    "        Computes distinct permutations of faces rolled (order-dependent).\n",
    "        \n",
    "        Returns:\n",
    "            pd.DataFrame: DataFrame with permutations and counts.\n",
    "        \"\"\"\n",
    "        perm_counts = Counter(\n",
    "            perm for roll in self._results.itertuples(index=False) for perm in permutations(roll)\n",
    "        )\n",
    "        return pd.DataFrame.from_dict(perm_counts, orient='index', columns=['Count']).rename_axis('Permutation')\n",
    "'''"
   ]
  },
  {
   "cell_type": "markdown",
   "id": "6377727a-8f0a-491e-9f1c-d9dc225edd35",
   "metadata": {},
   "source": [
    "## Unitest Module (2)\n",
    "\n",
    "Paste a copy of your test module below.\n",
    "\n",
    "NOTE: Paste as text, not as code. Use triple backticks to wrap your code blocks.\n",
    "\n",
    "- All methods have at least one test method (1).\n",
    "- Each method employs one of Unittest's Assert methods (1)."
   ]
  },
  {
   "cell_type": "code",
   "execution_count": null,
   "id": "088e7a37-2b2c-437a-8e53-6627600ae400",
   "metadata": {},
   "outputs": [],
   "source": [
    "'''\n",
    "import unittest\n",
    "import numpy as np\n",
    "import pandas as pd\n",
    "from itertools import permutations\n",
    "from collections import Counter\n",
    "\n",
    "from Die_Game_Analyzer_Class import Die, Game, Analyzer\n",
    "\n",
    "class TestDie(unittest.TestCase):\n",
    "    def setUp(self):\n",
    "        self.faces = np.array([1, 2, 3, 4, 5, 6])\n",
    "        self.die = Die(self.faces)\n",
    "\n",
    "    def test_initialization(self):\n",
    "        self.assertIsInstance(self.die.show(), pd.DataFrame, \"Die should store its state as a DataFrame.\")\n",
    "\n",
    "    def test_change_weight(self):\n",
    "        self.die.change_weight(1, 2.5)\n",
    "        self.assertEqual(self.die.show().loc[1, 'weights'], 2.5, \"Weight for face 1 should be updated to 2.5.\")\n",
    "\n",
    "    def test_roll(self):\n",
    "        rolls = self.die.roll(10)\n",
    "        self.assertEqual(len(rolls), 10, \"Roll method should return a list of length 10.\")\n",
    "        self.assertTrue(all(face in self.faces for face in rolls), \"All rolled faces should be in the die's faces.\")\n",
    "\n",
    "    def test_show(self):\n",
    "        df = self.die.show()\n",
    "        self.assertIsInstance(df, pd.DataFrame, \"Show method should return a DataFrame.\")\n",
    "        self.assertIn('weights', df.columns, \"DataFrame should contain a 'weights' column.\")\n",
    "\n",
    "class TestGame(unittest.TestCase):\n",
    "    def setUp(self):\n",
    "        self.faces = np.array([1, 2, 3, 4, 5, 6])\n",
    "        self.die1 = Die(self.faces)\n",
    "        self.die2 = Die(self.faces)\n",
    "        self.game = Game([self.die1, self.die2])\n",
    "\n",
    "    def test_initialization(self):\n",
    "        self.assertIsInstance(self.game._dice, list, \"Game should be initialized with a list of dice.\")\n",
    "\n",
    "    def test_play(self):\n",
    "        self.game.play(5)\n",
    "        results = self.game.show()\n",
    "        self.assertEqual(results.shape[0], 5, \"Results should have 5 rows, one for each roll.\")\n",
    "        self.assertEqual(results.shape[1], 2, \"Results should have 2 columns, one for each die.\")\n",
    "\n",
    "    def test_show_wide(self):\n",
    "        self.game.play(3)\n",
    "        results = self.game.show('wide')\n",
    "        self.assertIsInstance(results, pd.DataFrame, \"Show method in 'wide' form should return a DataFrame.\")\n",
    "\n",
    "    def test_show_narrow(self):\n",
    "        self.game.play(3)\n",
    "        results = self.game.show('narrow')\n",
    "        self.assertIsInstance(results, pd.DataFrame, \"Show method in 'narrow' form should return a DataFrame.\")\n",
    "        self.assertTrue('Die_Number' in results.index.names, \"Narrow results should have 'Die_Number' in the index.\")\n",
    "\n",
    "class TestAnalyzer(unittest.TestCase):\n",
    "    def setUp(self):\n",
    "        self.faces = np.array([1, 2, 3, 4, 5, 6])\n",
    "        self.die1 = Die(self.faces)\n",
    "        self.die2 = Die(self.faces)\n",
    "        self.game = Game([self.die1, self.die2])\n",
    "        self.game.play(10)\n",
    "        self.analyzer = Analyzer(self.game)\n",
    "\n",
    "    def test_initialization(self):\n",
    "        self.assertIsInstance(self.analyzer._results, pd.DataFrame, \"Analyzer should store game results in a DataFrame.\")\n",
    "\n",
    "    def test_jackpot(self):\n",
    "        jackpots = self.analyzer.jackpot()\n",
    "        self.assertTrue(isinstance(jackpots, (int, np.integer)), \"Jackpot method should return an integer.\")\n",
    "\n",
    "    def test_face_counts_per_roll(self):\n",
    "        face_counts = self.analyzer.face_counts_per_roll()\n",
    "        self.assertIsInstance(face_counts, pd.DataFrame, \"Face counts per roll should return a DataFrame.\")\n",
    "        self.assertTrue((face_counts >= 0).all().all(), \"All counts should be non-negative.\")\n",
    "\n",
    "    def test_combo_count(self):\n",
    "        combo_counts = self.analyzer.combo_count()\n",
    "        self.assertIsInstance(combo_counts, pd.DataFrame, \"Combo count should return a DataFrame.\")\n",
    "        self.assertIn('Count', combo_counts.columns, \"Combo count DataFrame should have a 'Count' column.\")\n",
    "\n",
    "    def test_permutation_count(self):\n",
    "        permutation_counts = self.analyzer.permutation_count()\n",
    "        self.assertIsInstance(permutation_counts, pd.DataFrame, \"Permutation count should return a DataFrame.\")\n",
    "        self.assertIn('Count', permutation_counts.columns, \"Permutation count DataFrame should have a 'Count' column.\")\n",
    "\n",
    "# Run the tests\n",
    "if __name__ == '__main__':\n",
    "    unittest.main(verbosity=3)\n",
    "'''"
   ]
  },
  {
   "cell_type": "markdown",
   "id": "3e058d03-29bc-408f-b36d-0605b4f4b8c0",
   "metadata": {
    "tags": []
   },
   "source": [
    "## Unittest Results (3)\n",
    "\n",
    "Put a copy of the results of running your tests from the command line here.\n",
    "\n",
    "Again, paste as text using triple backticks.\n",
    "\n",
    "- All 12 specified methods return OK (3; .25 each)."
   ]
  },
  {
   "cell_type": "code",
   "execution_count": null,
   "id": "3055892c-5b3a-4a31-be5f-a0953aded477",
   "metadata": {
    "tags": []
   },
   "outputs": [],
   "source": [
    "'''\n",
    "[New Thought]: python3 -m unittest Die_Game_Analyzer_Test\n",
    ".............\n",
    "----------------------------------------------------------------------\n",
    "Ran 13 tests in 0.065s\n",
    "\n",
    "OK\n",
    "'''"
   ]
  },
  {
   "cell_type": "markdown",
   "id": "d9ffe8c5-eb2f-4ad1-af76-a46550e4c7ac",
   "metadata": {},
   "source": [
    "## Import (1)\n",
    "\n",
    "Import your module here. This import should refer to the code in your package directory.\n",
    "\n",
    "- Module successuflly imported (1)."
   ]
  },
  {
   "cell_type": "code",
   "execution_count": 4,
   "id": "a05dffb3-e6d6-4f78-9df4-5abd0cf74ca9",
   "metadata": {
    "tags": []
   },
   "outputs": [],
   "source": [
    "from Die_Game_Analyzer_Class import Die, Game, Analyzer"
   ]
  },
  {
   "cell_type": "markdown",
   "id": "f30c4842-65b1-4556-98b6-3fe1a07e1371",
   "metadata": {},
   "source": [
    "## Help Docs (4)\n",
    "\n",
    "Show your docstring documentation by applying `help()` to your imported module.\n",
    "\n",
    "- All methods have a docstring (3; .25 each).\n",
    "- All classes have a docstring (1; .33 each)."
   ]
  },
  {
   "cell_type": "code",
   "execution_count": 10,
   "id": "bf4fbf1f-9885-471c-a0a6-e9ca90e160de",
   "metadata": {
    "tags": []
   },
   "outputs": [
    {
     "name": "stdout",
     "output_type": "stream",
     "text": [
      "Help on class Die in module __main__:\n",
      "\n",
      "class Die(builtins.object)\n",
      " |  Die(faces)\n",
      " |  \n",
      " |  Methods defined here:\n",
      " |  \n",
      " |  __init__(self, faces)\n",
      " |      Initialize self.  See help(type(self)) for accurate signature.\n",
      " |  \n",
      " |  change_weight(self, face, new_weight)\n",
      " |  \n",
      " |  roll(self, num_rolls=1)\n",
      " |  \n",
      " |  show(self)\n",
      " |  \n",
      " |  ----------------------------------------------------------------------\n",
      " |  Data descriptors defined here:\n",
      " |  \n",
      " |  __dict__\n",
      " |      dictionary for instance variables (if defined)\n",
      " |  \n",
      " |  __weakref__\n",
      " |      list of weak references to the object (if defined)\n",
      "\n",
      "Help on class Game in module __main__:\n",
      "\n",
      "class Game(builtins.object)\n",
      " |  Game(dice)\n",
      " |  \n",
      " |  Methods defined here:\n",
      " |  \n",
      " |  __init__(self, dice)\n",
      " |      Initialize self.  See help(type(self)) for accurate signature.\n",
      " |  \n",
      " |  play(self, num_rolls)\n",
      " |  \n",
      " |  show(self, form='wide')\n",
      " |  \n",
      " |  ----------------------------------------------------------------------\n",
      " |  Data descriptors defined here:\n",
      " |  \n",
      " |  __dict__\n",
      " |      dictionary for instance variables (if defined)\n",
      " |  \n",
      " |  __weakref__\n",
      " |      list of weak references to the object (if defined)\n",
      "\n",
      "Help on class Analyzer in module __main__:\n",
      "\n",
      "class Analyzer(builtins.object)\n",
      " |  Analyzer(game)\n",
      " |  \n",
      " |  Methods defined here:\n",
      " |  \n",
      " |  __init__(self, game)\n",
      " |      Initialize self.  See help(type(self)) for accurate signature.\n",
      " |  \n",
      " |  ----------------------------------------------------------------------\n",
      " |  Data descriptors defined here:\n",
      " |  \n",
      " |  __dict__\n",
      " |      dictionary for instance variables (if defined)\n",
      " |  \n",
      " |  __weakref__\n",
      " |      list of weak references to the object (if defined)\n",
      "\n"
     ]
    }
   ],
   "source": [
    "help(Die)\n",
    "help(Game)\n",
    "help(Analyzer)"
   ]
  },
  {
   "cell_type": "markdown",
   "id": "a9defa84-b395-4966-bd1c-5c6c2bb7ed68",
   "metadata": {},
   "source": [
    "## `README.md` File (3)\n",
    "\n",
    "Provide link to the README.md file of your project's repo.\n",
    "\n",
    "- Metadata section or info present (1).\n",
    "- Synopsis section showing how each class is called (1). (All must be included.)\n",
    "- API section listing all classes and methods (1). (All must be included.)"
   ]
  },
  {
   "cell_type": "markdown",
   "id": "ee090b33-d593-48a0-bf35-e739cea0942c",
   "metadata": {},
   "source": [
    "URL: https://github.com/JC-Hall/Monte-Carlo-Simulator/blob/main/README.md"
   ]
  },
  {
   "cell_type": "markdown",
   "id": "108604c8-8827-42ef-ab59-6b25428fc0ca",
   "metadata": {},
   "source": [
    "## Successful installation (2)\n",
    "\n",
    "Put a screenshot or paste a copy of a terminal session where you successfully install your module with pip.\n",
    "\n",
    "If pasting text, use a preformatted text block to show the results.\n",
    "\n",
    "- Installed with `pip` (1).\n",
    "- Successfully installed message appears (1)."
   ]
  },
  {
   "cell_type": "raw",
   "id": "1278db6a-aa53-4e5c-a749-93a87ab239e0",
   "metadata": {},
   "source": [
    "[New Thought]: pip install -e .\n",
    "Defaulting to user installation because normal site-packages is not writeable\n",
    "Obtaining file:///sfs/gpfs/tardis/home/jch7aa/Monte-Carlo-Simulator\n",
    "  Preparing metadata (setup.py) ... done\n",
    "Installing collected packages: Monte-Carlo-Simulator\n",
    "  Running setup.py develop for Monte-Carlo-Simulator\n",
    "Successfully installed Monte-Carlo-Simulator-0.1"
   ]
  },
  {
   "cell_type": "markdown",
   "id": "7c44695d-d1b3-4edf-9f94-e64d7446f199",
   "metadata": {},
   "source": [
    "# Scenarios\n",
    "\n",
    "Use code blocks to perform the tasks for each scenario.\n",
    "\n",
    "Be sure the outputs are visible before submitting."
   ]
  },
  {
   "cell_type": "markdown",
   "id": "e2479eae-6fc9-44cd-b8d7-9b22cb501f2a",
   "metadata": {
    "tags": []
   },
   "source": [
    "## Scenario 1: A 2-headed Coin (9)\n",
    "\n",
    "Task 1. Create a fair coin (with faces $H$ and $T$) and one unfair coin in which one of the faces has a weight of $5$ and the others $1$.\n",
    "\n",
    "- Fair coin created (1).\n",
    "- Unfair coin created with weight as specified (1)."
   ]
  },
  {
   "cell_type": "code",
   "execution_count": 19,
   "id": "55ce498e-c75f-4425-9e3e-b635bd6cd9e1",
   "metadata": {},
   "outputs": [
    {
     "name": "stdout",
     "output_type": "stream",
     "text": [
      "Fair Coin:\n",
      "       weights\n",
      "faces         \n",
      "H          1.0\n",
      "T          1.0\n",
      "\n",
      "Unfair Coin:\n",
      "       weights\n",
      "faces         \n",
      "H          5.0\n",
      "T          1.0\n"
     ]
    }
   ],
   "source": [
    "import numpy as np\n",
    "import pandas as pd\n",
    "\n",
    "faces_fair = np.array(['H', 'T'])  \n",
    "fair_coin = Die(faces_fair)\n",
    "\n",
    "print(\"Fair Coin:\")\n",
    "print(fair_coin.show())\n",
    "\n",
    "faces_unfair = np.array(['H', 'T'])\n",
    "unfair_coin = Die(faces_unfair)\n",
    "\n",
    "unfair_coin.change_weight('H', 5)\n",
    "unfair_coin.change_weight('T', 1)\n",
    "\n",
    "print(\"\\nUnfair Coin:\")\n",
    "print(unfair_coin.show())"
   ]
  },
  {
   "cell_type": "markdown",
   "id": "02b272ab-99da-4b6e-ac2a-555b73e09c07",
   "metadata": {},
   "source": [
    "Task 2. Play a game of $1000$ flips with two fair dice.\n",
    "\n",
    "- Play method called correclty and without error (1)."
   ]
  },
  {
   "cell_type": "code",
   "execution_count": 25,
   "id": "65c92601-d32d-4326-b215-74953aee27f2",
   "metadata": {},
   "outputs": [
    {
     "name": "stdout",
     "output_type": "stream",
     "text": [
      "Game results:\n",
      "            Die_0 Die_1\n",
      "Roll_Number            \n",
      "0               T     T\n",
      "1               H     T\n",
      "2               T     H\n",
      "3               T     H\n",
      "4               H     H\n",
      "...           ...   ...\n",
      "995             H     T\n",
      "996             T     H\n",
      "997             T     T\n",
      "998             H     H\n",
      "999             H     T\n",
      "\n",
      "[1000 rows x 2 columns]\n"
     ]
    }
   ],
   "source": [
    "faces = np.array(['H', 'T'])  \n",
    "fair_die1 = Die(faces)\n",
    "fair_die2 = Die(faces)\n",
    "game = Game([fair_die1, fair_die2])\n",
    "game.play(1000)\n",
    "print(\"Game results:\")\n",
    "print(game.show())"
   ]
  },
  {
   "cell_type": "markdown",
   "id": "7d9c3dc8-22c1-4cae-81fb-d68d774a05d1",
   "metadata": {},
   "source": [
    "Task 3. Play another game (using a new Game object) of $1000$ flips, this time using two unfair dice and one fair die. For the second unfair die, you can use the same die object twice in the list of dice you pass to the Game object.\n",
    "\n",
    "- New game object created (1).\n",
    "- Play method called correclty and without error (1)."
   ]
  },
  {
   "cell_type": "code",
   "execution_count": 33,
   "id": "d4098bed-1eb2-4084-8d5e-9fda07c3be43",
   "metadata": {},
   "outputs": [
    {
     "name": "stdout",
     "output_type": "stream",
     "text": [
      "New game results:\n",
      "            Die_0 Die_1 Die_2\n",
      "Roll_Number                  \n",
      "0               H     H     T\n",
      "1               H     H     T\n",
      "2               H     T     T\n",
      "3               H     H     H\n",
      "4               H     H     H\n",
      "...           ...   ...   ...\n",
      "995             H     H     H\n",
      "996             T     H     H\n",
      "997             H     H     T\n",
      "998             H     H     T\n",
      "999             H     T     H\n",
      "\n",
      "[1000 rows x 3 columns]\n"
     ]
    }
   ],
   "source": [
    "faces = np.array(['H', 'T'])  \n",
    "fair_die = Die(faces)\n",
    "\n",
    "unfair_die = Die(faces)\n",
    "unfair_die.change_weight('H', 5)  \n",
    "unfair_die.change_weight('T', 1) \n",
    "\n",
    "game2 = Game([unfair_die, unfair_die, fair_die])\n",
    "\n",
    "game2.play(1000)\n",
    "\n",
    "print(\"New game results:\")\n",
    "print(game2.show())"
   ]
  },
  {
   "cell_type": "markdown",
   "id": "f690ebfc-fe71-4eb2-976d-7ac80ca6c23f",
   "metadata": {},
   "source": [
    "Task 4. For each game, use an Analyzer object to determine the raw frequency of jackpots — i.e. getting either all $H$s or all $T$s.\n",
    "\n",
    "- Analyzer objecs instantiated for both games (1).\n",
    "- Raw frequencies reported for both (1)."
   ]
  },
  {
   "cell_type": "code",
   "execution_count": 107,
   "id": "b26b8b7e-3be7-4476-a9a4-37d97536729e",
   "metadata": {},
   "outputs": [
    {
     "name": "stdout",
     "output_type": "stream",
     "text": [
      "Game 1 (2 fair dice): 512\n",
      "Game 2 (2 unfair dice and 1 fair die): 398\n"
     ]
    }
   ],
   "source": [
    "analyzer_game1 = Analyzer(game)\n",
    "jackpots_game1 = analyzer_game1.jackpot()\n",
    "print(f\"Game 1 (2 fair dice): {jackpots_game1}\")\n",
    "\n",
    "analyzer_game2 = Analyzer(game2)\n",
    "jackpots_game2 = analyzer_game2.jackpot()\n",
    "print(f\"Game 2 (2 unfair dice and 1 fair die): {jackpots_game2}\")"
   ]
  },
  {
   "cell_type": "markdown",
   "id": "b73d233c-445e-40cd-8858-0c5e1f097105",
   "metadata": {},
   "source": [
    "Task 5. For each analyzer, compute relative frequency as the number of jackpots over the total number of rolls.\n",
    "\n",
    "- Both relative frequencies computed (1)."
   ]
  },
  {
   "cell_type": "code",
   "execution_count": 109,
   "id": "9a96b31b-1b9d-496e-be3e-4bf83c45ec3a",
   "metadata": {},
   "outputs": [
    {
     "name": "stdout",
     "output_type": "stream",
     "text": [
      "Relative frequency for Game 1 (2 fair dice): 0.512\n",
      "Relative frequency for Game 2 (2 unfair dice and 1 fair die): 0.398\n"
     ]
    }
   ],
   "source": [
    "total_rolls_game1 = 1000  \n",
    "relative_frequency_game1 = jackpots_game1 / total_rolls_game1\n",
    "print(f\"Relative frequency for Game 1 (2 fair dice): {relative_frequency_game1}\")\n",
    "\n",
    "\n",
    "total_rolls_game2 = 1000 \n",
    "relative_frequency_game2 = jackpots_game2 / total_rolls_game2\n",
    "print(f\"Relative frequency for Game 2 (2 unfair dice and 1 fair die): {relative_frequency_game2}\")"
   ]
  },
  {
   "cell_type": "markdown",
   "id": "a6e1e734-7f5c-4721-8ba4-2f3a424cf984",
   "metadata": {},
   "source": [
    "Task 6. Show your results, comparing the two relative frequencies, in a simple bar chart.\n",
    "\n",
    "- Bar chart plotted and correct (1)."
   ]
  },
  {
   "cell_type": "code",
   "execution_count": 113,
   "id": "473fa67c-aa53-4aa3-a0b7-e8772b3f6ed3",
   "metadata": {},
   "outputs": [
    {
     "data": {
      "image/png": "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",
      "text/plain": [
       "<Figure size 800x500 with 1 Axes>"
      ]
     },
     "metadata": {},
     "output_type": "display_data"
    }
   ],
   "source": [
    "import matplotlib.pyplot as plt\n",
    "\n",
    "games = ['Game 1: 2 Fair Dice', 'Game 2: 2 Unfair + 1 Fair Dice']\n",
    "relative_frequencies = [relative_frequency_game1, relative_frequency_game2]\n",
    "\n",
    "plt.figure(figsize=(8, 5))\n",
    "plt.bar(games, relative_frequencies, color=['Green', 'Red'])\n",
    "plt.title('Comparison of Relative Frequencies of Jackpots')\n",
    "plt.ylabel('Relative Frequency')\n",
    "plt.xlabel('Games')\n",
    "plt.ylim(0, 1)  \n",
    "plt.show()"
   ]
  },
  {
   "cell_type": "markdown",
   "id": "725cfa5b-e4b7-47c9-86aa-8d9e1fe6c8c7",
   "metadata": {},
   "source": [
    "## Scenario 2: A 6-sided Die (9)\n",
    "\n",
    "Task 1. Create three dice, each with six sides having the faces 1 through 6.\n",
    "\n",
    "- Three die objects created (1)."
   ]
  },
  {
   "cell_type": "code",
   "execution_count": 53,
   "id": "6a8bc611-325a-4e05-88d5-980e0a2cf7c5",
   "metadata": {},
   "outputs": [
    {
     "name": "stdout",
     "output_type": "stream",
     "text": [
      "Die 1:\n",
      "       weights\n",
      "faces         \n",
      "1          1.0\n",
      "2          1.0\n",
      "3          1.0\n",
      "4          1.0\n",
      "5          1.0\n",
      "6          1.0\n",
      "\n",
      "Die 2:\n",
      "       weights\n",
      "faces         \n",
      "1          1.0\n",
      "2          1.0\n",
      "3          1.0\n",
      "4          1.0\n",
      "5          1.0\n",
      "6          1.0\n",
      "\n",
      "Die 3:\n",
      "       weights\n",
      "faces         \n",
      "1          1.0\n",
      "2          1.0\n",
      "3          1.0\n",
      "4          1.0\n",
      "5          1.0\n",
      "6          1.0\n"
     ]
    }
   ],
   "source": [
    "faces = np.array([1, 2, 3, 4, 5, 6])\n",
    "\n",
    "die1 = Die(faces)\n",
    "die2 = Die(faces)\n",
    "die3 = Die(faces)\n",
    "\n",
    "print(\"Die 1:\")\n",
    "print(die1.show())\n",
    "\n",
    "print(\"\\nDie 2:\")\n",
    "print(die2.show())\n",
    "\n",
    "print(\"\\nDie 3:\")\n",
    "print(die3.show())"
   ]
  },
  {
   "cell_type": "markdown",
   "id": "2ed3ad26-fbe9-43bd-9ad7-f683a4191d12",
   "metadata": {},
   "source": [
    "Task 2. Convert one of the dice to an unfair one by weighting the face $6$ five times more than the other weights (i.e. it has weight of 5 and the others a weight of 1 each).\n",
    "\n",
    "- Unfair die created with proper call to weight change method (1)."
   ]
  },
  {
   "cell_type": "code",
   "execution_count": 117,
   "id": "e33dd18f-7f90-456d-a680-61c08a328e21",
   "metadata": {},
   "outputs": [
    {
     "name": "stdout",
     "output_type": "stream",
     "text": [
      "Unfair Die 1:\n",
      "       weights\n",
      "faces         \n",
      "1          1.0\n",
      "2          1.0\n",
      "3          1.0\n",
      "4          1.0\n",
      "5          1.0\n",
      "6          5.0\n"
     ]
    }
   ],
   "source": [
    "die1.change_weight(6, 5)  \n",
    "for face in [1, 2, 3, 4, 5]:  \n",
    "    die1.change_weight(face, 1)\n",
    "\n",
    "print(\"Unfair Die 1:\")\n",
    "print(die1.show())"
   ]
  },
  {
   "cell_type": "markdown",
   "id": "7f6c062a-4c5b-45b9-96b8-76a0354c7e47",
   "metadata": {},
   "source": [
    "Task 3. Convert another of the dice to be unfair by weighting the face $1$ five times more than the others.\n",
    "\n",
    "- Unfair die created with proper call to weight change method (1)."
   ]
  },
  {
   "cell_type": "code",
   "execution_count": 87,
   "id": "01133a4e-6b06-4246-8d90-8e6d6995be51",
   "metadata": {},
   "outputs": [
    {
     "name": "stdout",
     "output_type": "stream",
     "text": [
      "Unfair Die 2:\n",
      "       weights\n",
      "faces         \n",
      "1          5.0\n",
      "2          1.0\n",
      "3          1.0\n",
      "4          1.0\n",
      "5          1.0\n",
      "6          1.0\n"
     ]
    }
   ],
   "source": [
    "die2.change_weight(6, 1)  \n",
    "for face in [1, 2, 3, 4, 5]:  \n",
    "    die1.change_weight(face, 1)\n",
    "\n",
    "print(\"Unfair Die 2:\")\n",
    "print(die2.show())"
   ]
  },
  {
   "cell_type": "markdown",
   "id": "f0ed31cb-0a3c-4eb2-b85e-6ed6b2eb6e58",
   "metadata": {},
   "source": [
    "Task 4. Play a game of $10000$ rolls with $5$ fair dice.\n",
    "\n",
    "- Game class properly instantiated (1). \n",
    "- Play method called properly (1)."
   ]
  },
  {
   "cell_type": "code",
   "execution_count": 73,
   "id": "e92395a4-9ed8-4cb0-8c85-38768a784ffc",
   "metadata": {},
   "outputs": [
    {
     "name": "stdout",
     "output_type": "stream",
     "text": [
      "Game results:\n",
      "             Die_0  Die_1  Die_2  Die_3  Die_4\n",
      "Roll_Number                                   \n",
      "0                3      2      5      2      6\n",
      "1                1      3      1      2      4\n",
      "2                1      5      5      3      4\n",
      "3                4      3      4      6      5\n",
      "4                1      5      3      5      3\n",
      "...            ...    ...    ...    ...    ...\n",
      "9995             2      1      6      4      3\n",
      "9996             4      4      6      5      4\n",
      "9997             4      4      3      5      3\n",
      "9998             5      6      4      5      1\n",
      "9999             6      3      3      6      6\n",
      "\n",
      "[10000 rows x 5 columns]\n"
     ]
    }
   ],
   "source": [
    "faces = np.array([1, 2, 3, 4, 5, 6])\n",
    "fair_die1 = Die(faces)\n",
    "fair_die2 = Die(faces)\n",
    "fair_die3 = Die(faces)\n",
    "fair_die4 = Die(faces)\n",
    "fair_die5 = Die(faces)\n",
    "\n",
    "game_five_fair = Game([fair_die1, fair_die2, fair_die3, fair_die4, fair_die5])\n",
    "\n",
    "game_five_fair.play(10000)\n",
    "\n",
    "print(\"Game results:\")\n",
    "print(game_five_fair.show())"
   ]
  },
  {
   "cell_type": "markdown",
   "id": "7814b402-46a4-40e5-8141-20e05c3e646b",
   "metadata": {},
   "source": [
    "Task 5. Play another game of $10000$ rolls, this time with $2$ unfair dice, one as defined in steps #2 and #3 respectively, and $3$ fair dice.\n",
    "\n",
    "- Game class properly instantiated (1). \n",
    "- Play method called properly (1)."
   ]
  },
  {
   "cell_type": "code",
   "execution_count": 83,
   "id": "7cd58fba-b2a5-4d5d-bc6d-2a7a68d18c4f",
   "metadata": {},
   "outputs": [
    {
     "name": "stdout",
     "output_type": "stream",
     "text": [
      "Game results:\n",
      "             Die_0  Die_1  Die_2  Die_3  Die_4\n",
      "Roll_Number                                   \n",
      "0                6      1      6      4      5\n",
      "1                1      3      1      4      6\n",
      "2                1      6      3      1      3\n",
      "3                6      1      1      3      3\n",
      "4                6      1      3      4      4\n",
      "...            ...    ...    ...    ...    ...\n",
      "9995             6      4      2      1      1\n",
      "9996             6      2      1      2      2\n",
      "9997             6      5      6      4      4\n",
      "9998             6      2      6      5      3\n",
      "9999             6      5      3      2      1\n",
      "\n",
      "[10000 rows x 5 columns]\n"
     ]
    }
   ],
   "source": [
    "unfair_die1 = die1\n",
    "unfair_die2 = die2\n",
    "fair_die3 = Die(faces)\n",
    "fair_die4 = Die(faces)\n",
    "fair_die5 = Die(faces)\n",
    "\n",
    "game_mixed_dice = Game([unfair_die1, unfair_die2, fair_die3, fair_die4, fair_die5])\n",
    "game_mixed_dice.play(10000)\n",
    "\n",
    "print(\"Game results:\")\n",
    "print(game_mixed_dice.show())"
   ]
  },
  {
   "cell_type": "markdown",
   "id": "7b6cd372-2bb8-4df8-ade1-8f48bc300955",
   "metadata": {},
   "source": [
    "Task 6. For each game, use an Analyzer object to determine the relative frequency of jackpots and show your results, comparing the two relative frequencies, in a simple bar chart.\n",
    "\n",
    "- Jackpot methods called (1).\n",
    "- Graph produced (1)."
   ]
  },
  {
   "cell_type": "code",
   "execution_count": 101,
   "id": "bbdcf695-8937-406e-9b53-aa0b9ee3c59a",
   "metadata": {},
   "outputs": [
    {
     "data": {
      "image/png": "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",
      "text/plain": [
       "<Figure size 800x500 with 1 Axes>"
      ]
     },
     "metadata": {},
     "output_type": "display_data"
    }
   ],
   "source": [
    "analyzer_diegame1 = Analyzer(game_five_fair)\n",
    "jackpots_diegame1 = analyzer_diegame1.jackpot()\n",
    "Die_game1 = jackpots_diegame1 / 10000\n",
    "\n",
    "analyzer_diegame2 = Analyzer(game_mixed_dice)\n",
    "jackpots_diegame2 = analyzer_diegame2.jackpot()\n",
    "Die_game2 = jackpots_diegame2 / 10000\n",
    "\n",
    "games = ['Game 1: 5 Fair Dice', 'Game 2: 2 Unfair + 3 Fair Dice']\n",
    "Die_frequencies = [Die_game1, Die_game2]\n",
    "\n",
    "plt.figure(figsize=(8, 5))\n",
    "plt.bar(games, Die_frequencies, color=['blue', 'orange'])\n",
    "plt.title('Comparison of Relative Frequencies of Jackpots')\n",
    "plt.ylabel('Relative Frequency')\n",
    "plt.xlabel('Games') \n",
    "plt.show()"
   ]
  },
  {
   "cell_type": "markdown",
   "id": "9f04e9be-8fcf-4ea4-a391-6614608285f8",
   "metadata": {},
   "source": [
    "## Scenario 3: Letters of the Alphabet (7)\n",
    "\n",
    "Task 1. Create a \"die\" of letters from $A$ to $Z$ with weights based on their frequency of usage as found in the data file `english_letters.txt`. Use the frequencies (i.e. raw counts) as weights.\n",
    "\n",
    "- Die correctly instantiated with source file data (1).\n",
    "- Weights properly applied using weight setting method (1)."
   ]
  },
  {
   "cell_type": "code",
   "execution_count": 125,
   "id": "b0ceb771-3cdf-4d8f-8c2c-020806bbb909",
   "metadata": {},
   "outputs": [
    {
     "name": "stdout",
     "output_type": "stream",
     "text": [
      "Die with letters and weights:\n",
      "           weights\n",
      "faces             \n",
      "E      529117365.0\n",
      "T      390965105.0\n",
      "A      374061888.0\n",
      "O      326627740.0\n",
      "I      320410057.0\n",
      "N      313720540.0\n",
      "S      294300210.0\n",
      "R      277000841.0\n",
      "H      216768975.0\n",
      "L      183996130.0\n",
      "D      169330528.0\n",
      "C      138416451.0\n",
      "U      117295780.0\n",
      "M      110504544.0\n",
      "F       95422055.0\n",
      "G       91258980.0\n",
      "P       90376747.0\n",
      "W       79843664.0\n",
      "Y       75294515.0\n",
      "B       70195826.0\n",
      "V       46337161.0\n",
      "K       35373464.0\n",
      "J        9613410.0\n",
      "X        8369915.0\n",
      "Z        4975847.0\n",
      "Q        4550166.0\n"
     ]
    }
   ],
   "source": [
    "letter_weights = {}\n",
    "with open('english_letters.txt', 'r') as file:\n",
    "    for line in file:\n",
    "        letter, weight = line.split()\n",
    "        letter_weights[letter] = int(weight)\n",
    "\n",
    "letters = np.array(list(letter_weights.keys()))\n",
    "die = Die(letters)\n",
    "\n",
    "for letter, weight in letter_weights.items():\n",
    "    die.change_weight(letter, weight)\n",
    "\n",
    "print(\"Die with letters and weights:\")\n",
    "print(die.show())"
   ]
  },
  {
   "cell_type": "markdown",
   "id": "88e2e14a-6223-470a-a2c8-bca1120d7a5b",
   "metadata": {},
   "source": [
    "Task 2. Play a game involving $4$ of these dice with $1000$ rolls.\n",
    "\n",
    "- Game play method properly called (1)."
   ]
  },
  {
   "cell_type": "code",
   "execution_count": 133,
   "id": "2ae087cc-936d-4f1e-bddb-a7c179d139e0",
   "metadata": {},
   "outputs": [
    {
     "name": "stdout",
     "output_type": "stream",
     "text": [
      "Game results with 4 dice:\n",
      "            Die_0 Die_1 Die_2 Die_3\n",
      "Roll_Number                        \n",
      "0               N     H     N     I\n",
      "1               U     E     U     O\n",
      "2               K     E     E     D\n",
      "3               C     A     E     W\n",
      "4               S     E     A     S\n",
      "...           ...   ...   ...   ...\n",
      "995             C     I     N     R\n",
      "996             T     S     T     C\n",
      "997             L     T     N     A\n",
      "998             D     L     H     H\n",
      "999             T     A     R     O\n",
      "\n",
      "[1000 rows x 4 columns]\n"
     ]
    }
   ],
   "source": [
    "letter_dice = [die for letter in range(4)]\n",
    "\n",
    "game_letters = Game(letter_dice)\n",
    "\n",
    "game_letters.play(1000)\n",
    "\n",
    "print(\"Game results with 4 dice:\")\n",
    "print(game_letters.show()) "
   ]
  },
  {
   "cell_type": "markdown",
   "id": "3b9ff800-bf1f-4f66-9d7f-ff57a648e9f0",
   "metadata": {},
   "source": [
    "Task 3. Determine how many permutations in your results are actual English words, based on the vocabulary found in `scrabble_words.txt`.\n",
    "\n",
    "- Use permutation method (1).\n",
    "- Get count as difference between permutations and vocabulary (1)."
   ]
  },
  {
   "cell_type": "code",
   "execution_count": 147,
   "id": "ed1c7fa0-cfa3-4cf4-9fd0-9f84b86b0f64",
   "metadata": {},
   "outputs": [
    {
     "name": "stdout",
     "output_type": "stream",
     "text": [
      "Number of valid English words found: 872\n"
     ]
    }
   ],
   "source": [
    "with open('scrabble_words.txt', 'r') as file:\n",
    "    scrabble_words = {line.strip().upper() for line in file}\n",
    "\n",
    "analyzer = Analyzer(game_letters)  \n",
    "\n",
    "permutation_df = analyzer.permutation_count()\n",
    "\n",
    "valid_words = [perm for perm in permutation_df.index if ''.join(perm).upper() in scrabble_words]\n",
    "\n",
    "num_valid_words = len(valid_words)\n",
    "\n",
    "print(f\"Number of valid English words found: {num_valid_words}\")"
   ]
  },
  {
   "cell_type": "markdown",
   "id": "fcf068cf-381a-4b3e-ac3a-0510eb4dbdb0",
   "metadata": {},
   "source": [
    "Task 4. Repeat steps #2 and #3, this time with $5$ dice. How many actual words does this produce? Which produces more?\n",
    "\n",
    "- Successfully repreats steps (1).\n",
    "- Identifies parameter with most found words (1)."
   ]
  },
  {
   "cell_type": "code",
   "execution_count": 153,
   "id": "1102fe8b-42d7-4f2a-abaf-63f52e584c89",
   "metadata": {},
   "outputs": [
    {
     "name": "stdout",
     "output_type": "stream",
     "text": [
      "Number of valid English words found: 630\n",
      "Task 3 produces more words\n"
     ]
    }
   ],
   "source": [
    "letter_dice2 = [die for letter in range(5)]\n",
    "\n",
    "game_letters2 = Game(letter_dice2)\n",
    "\n",
    "game_letters2.play(1000)\n",
    "\n",
    "analyzer2 = Analyzer(game_letters2)  \n",
    "\n",
    "permutation_df2 = analyzer2.permutation_count()\n",
    "\n",
    "valid_words2 = [perm for perm in permutation_df2.index if ''.join(perm).upper() in scrabble_words]\n",
    "\n",
    "num_valid_words2 = len(valid_words2)\n",
    "\n",
    "print(f\"Number of valid English words found: {num_valid_words2}\")\n",
    "print(\"Task 3 produces more words\")"
   ]
  }
 ],
 "metadata": {
  "kernelspec": {
   "display_name": "Python 3 (ipykernel)",
   "language": "python",
   "name": "python3"
  },
  "language_info": {
   "codemirror_mode": {
    "name": "ipython",
    "version": 3
   },
   "file_extension": ".py",
   "mimetype": "text/x-python",
   "name": "python",
   "nbconvert_exporter": "python",
   "pygments_lexer": "ipython3",
   "version": "3.10.14"
  },
  "toc-autonumbering": true,
  "widgets": {
   "application/vnd.jupyter.widget-state+json": {
    "state": {},
    "version_major": 2,
    "version_minor": 0
   }
  }
 },
 "nbformat": 4,
 "nbformat_minor": 5
}
